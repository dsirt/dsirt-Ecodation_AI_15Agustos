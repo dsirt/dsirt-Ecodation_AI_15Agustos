{
 "cells": [
  {
   "cell_type": "code",
   "execution_count": 1,
   "id": "582e2772",
   "metadata": {},
   "outputs": [],
   "source": [
    "#Hierarchical Clustering, Agglomerative (bottom-up) - Divisive (top-down)"
   ]
  },
  {
   "cell_type": "code",
   "execution_count": 2,
   "id": "3337c246",
   "metadata": {},
   "outputs": [],
   "source": [
    "#dendrogram"
   ]
  },
  {
   "cell_type": "code",
   "execution_count": 3,
   "id": "4f101c01",
   "metadata": {},
   "outputs": [],
   "source": [
    "import matplotlib.pyplot as plt\n",
    "import pandas as pd\n",
    "import numpy as np"
   ]
  },
  {
   "cell_type": "code",
   "execution_count": 4,
   "id": "5e9e3815",
   "metadata": {},
   "outputs": [
    {
     "data": {
      "text/plain": [
       "(200, 5)"
      ]
     },
     "execution_count": 4,
     "metadata": {},
     "output_type": "execute_result"
    }
   ],
   "source": [
    "customer_data = pd.read_csv('mydata/Mall_Customers.csv')\n",
    "customer_data.shape"
   ]
  },
  {
   "cell_type": "code",
   "execution_count": 5,
   "id": "f02b4527",
   "metadata": {},
   "outputs": [
    {
     "data": {
      "text/html": [
       "<div>\n",
       "<style scoped>\n",
       "    .dataframe tbody tr th:only-of-type {\n",
       "        vertical-align: middle;\n",
       "    }\n",
       "\n",
       "    .dataframe tbody tr th {\n",
       "        vertical-align: top;\n",
       "    }\n",
       "\n",
       "    .dataframe thead th {\n",
       "        text-align: right;\n",
       "    }\n",
       "</style>\n",
       "<table border=\"1\" class=\"dataframe\">\n",
       "  <thead>\n",
       "    <tr style=\"text-align: right;\">\n",
       "      <th></th>\n",
       "      <th>CustomerID</th>\n",
       "      <th>Genre</th>\n",
       "      <th>Age</th>\n",
       "      <th>Annual Income (k$)</th>\n",
       "      <th>Spending Score (1-100)</th>\n",
       "    </tr>\n",
       "  </thead>\n",
       "  <tbody>\n",
       "    <tr>\n",
       "      <th>0</th>\n",
       "      <td>1</td>\n",
       "      <td>Male</td>\n",
       "      <td>19</td>\n",
       "      <td>15</td>\n",
       "      <td>39</td>\n",
       "    </tr>\n",
       "    <tr>\n",
       "      <th>1</th>\n",
       "      <td>2</td>\n",
       "      <td>Male</td>\n",
       "      <td>21</td>\n",
       "      <td>15</td>\n",
       "      <td>81</td>\n",
       "    </tr>\n",
       "    <tr>\n",
       "      <th>2</th>\n",
       "      <td>3</td>\n",
       "      <td>Female</td>\n",
       "      <td>20</td>\n",
       "      <td>16</td>\n",
       "      <td>6</td>\n",
       "    </tr>\n",
       "    <tr>\n",
       "      <th>3</th>\n",
       "      <td>4</td>\n",
       "      <td>Female</td>\n",
       "      <td>23</td>\n",
       "      <td>16</td>\n",
       "      <td>77</td>\n",
       "    </tr>\n",
       "    <tr>\n",
       "      <th>4</th>\n",
       "      <td>5</td>\n",
       "      <td>Female</td>\n",
       "      <td>31</td>\n",
       "      <td>17</td>\n",
       "      <td>40</td>\n",
       "    </tr>\n",
       "  </tbody>\n",
       "</table>\n",
       "</div>"
      ],
      "text/plain": [
       "   CustomerID   Genre  Age  Annual Income (k$)  Spending Score (1-100)\n",
       "0           1    Male   19                  15                      39\n",
       "1           2    Male   21                  15                      81\n",
       "2           3  Female   20                  16                       6\n",
       "3           4  Female   23                  16                      77\n",
       "4           5  Female   31                  17                      40"
      ]
     },
     "execution_count": 5,
     "metadata": {},
     "output_type": "execute_result"
    }
   ],
   "source": [
    "customer_data.head()"
   ]
  },
  {
   "cell_type": "code",
   "execution_count": 6,
   "id": "43af2eb1",
   "metadata": {},
   "outputs": [
    {
     "data": {
      "text/plain": [
       "array([[ 15,  39],\n",
       "       [ 15,  81],\n",
       "       [ 16,   6],\n",
       "       [ 16,  77],\n",
       "       [ 17,  40],\n",
       "       [ 17,  76],\n",
       "       [ 18,   6],\n",
       "       [ 18,  94],\n",
       "       [ 19,   3],\n",
       "       [ 19,  72],\n",
       "       [ 19,  14],\n",
       "       [ 19,  99],\n",
       "       [ 20,  15],\n",
       "       [ 20,  77],\n",
       "       [ 20,  13],\n",
       "       [ 20,  79],\n",
       "       [ 21,  35],\n",
       "       [ 21,  66],\n",
       "       [ 23,  29],\n",
       "       [ 23,  98],\n",
       "       [ 24,  35],\n",
       "       [ 24,  73],\n",
       "       [ 25,   5],\n",
       "       [ 25,  73],\n",
       "       [ 28,  14],\n",
       "       [ 28,  82],\n",
       "       [ 28,  32],\n",
       "       [ 28,  61],\n",
       "       [ 29,  31],\n",
       "       [ 29,  87],\n",
       "       [ 30,   4],\n",
       "       [ 30,  73],\n",
       "       [ 33,   4],\n",
       "       [ 33,  92],\n",
       "       [ 33,  14],\n",
       "       [ 33,  81],\n",
       "       [ 34,  17],\n",
       "       [ 34,  73],\n",
       "       [ 37,  26],\n",
       "       [ 37,  75],\n",
       "       [ 38,  35],\n",
       "       [ 38,  92],\n",
       "       [ 39,  36],\n",
       "       [ 39,  61],\n",
       "       [ 39,  28],\n",
       "       [ 39,  65],\n",
       "       [ 40,  55],\n",
       "       [ 40,  47],\n",
       "       [ 40,  42],\n",
       "       [ 40,  42],\n",
       "       [ 42,  52],\n",
       "       [ 42,  60],\n",
       "       [ 43,  54],\n",
       "       [ 43,  60],\n",
       "       [ 43,  45],\n",
       "       [ 43,  41],\n",
       "       [ 44,  50],\n",
       "       [ 44,  46],\n",
       "       [ 46,  51],\n",
       "       [ 46,  46],\n",
       "       [ 46,  56],\n",
       "       [ 46,  55],\n",
       "       [ 47,  52],\n",
       "       [ 47,  59],\n",
       "       [ 48,  51],\n",
       "       [ 48,  59],\n",
       "       [ 48,  50],\n",
       "       [ 48,  48],\n",
       "       [ 48,  59],\n",
       "       [ 48,  47],\n",
       "       [ 49,  55],\n",
       "       [ 49,  42],\n",
       "       [ 50,  49],\n",
       "       [ 50,  56],\n",
       "       [ 54,  47],\n",
       "       [ 54,  54],\n",
       "       [ 54,  53],\n",
       "       [ 54,  48],\n",
       "       [ 54,  52],\n",
       "       [ 54,  42],\n",
       "       [ 54,  51],\n",
       "       [ 54,  55],\n",
       "       [ 54,  41],\n",
       "       [ 54,  44],\n",
       "       [ 54,  57],\n",
       "       [ 54,  46],\n",
       "       [ 57,  58],\n",
       "       [ 57,  55],\n",
       "       [ 58,  60],\n",
       "       [ 58,  46],\n",
       "       [ 59,  55],\n",
       "       [ 59,  41],\n",
       "       [ 60,  49],\n",
       "       [ 60,  40],\n",
       "       [ 60,  42],\n",
       "       [ 60,  52],\n",
       "       [ 60,  47],\n",
       "       [ 60,  50],\n",
       "       [ 61,  42],\n",
       "       [ 61,  49],\n",
       "       [ 62,  41],\n",
       "       [ 62,  48],\n",
       "       [ 62,  59],\n",
       "       [ 62,  55],\n",
       "       [ 62,  56],\n",
       "       [ 62,  42],\n",
       "       [ 63,  50],\n",
       "       [ 63,  46],\n",
       "       [ 63,  43],\n",
       "       [ 63,  48],\n",
       "       [ 63,  52],\n",
       "       [ 63,  54],\n",
       "       [ 64,  42],\n",
       "       [ 64,  46],\n",
       "       [ 65,  48],\n",
       "       [ 65,  50],\n",
       "       [ 65,  43],\n",
       "       [ 65,  59],\n",
       "       [ 67,  43],\n",
       "       [ 67,  57],\n",
       "       [ 67,  56],\n",
       "       [ 67,  40],\n",
       "       [ 69,  58],\n",
       "       [ 69,  91],\n",
       "       [ 70,  29],\n",
       "       [ 70,  77],\n",
       "       [ 71,  35],\n",
       "       [ 71,  95],\n",
       "       [ 71,  11],\n",
       "       [ 71,  75],\n",
       "       [ 71,   9],\n",
       "       [ 71,  75],\n",
       "       [ 72,  34],\n",
       "       [ 72,  71],\n",
       "       [ 73,   5],\n",
       "       [ 73,  88],\n",
       "       [ 73,   7],\n",
       "       [ 73,  73],\n",
       "       [ 74,  10],\n",
       "       [ 74,  72],\n",
       "       [ 75,   5],\n",
       "       [ 75,  93],\n",
       "       [ 76,  40],\n",
       "       [ 76,  87],\n",
       "       [ 77,  12],\n",
       "       [ 77,  97],\n",
       "       [ 77,  36],\n",
       "       [ 77,  74],\n",
       "       [ 78,  22],\n",
       "       [ 78,  90],\n",
       "       [ 78,  17],\n",
       "       [ 78,  88],\n",
       "       [ 78,  20],\n",
       "       [ 78,  76],\n",
       "       [ 78,  16],\n",
       "       [ 78,  89],\n",
       "       [ 78,   1],\n",
       "       [ 78,  78],\n",
       "       [ 78,   1],\n",
       "       [ 78,  73],\n",
       "       [ 79,  35],\n",
       "       [ 79,  83],\n",
       "       [ 81,   5],\n",
       "       [ 81,  93],\n",
       "       [ 85,  26],\n",
       "       [ 85,  75],\n",
       "       [ 86,  20],\n",
       "       [ 86,  95],\n",
       "       [ 87,  27],\n",
       "       [ 87,  63],\n",
       "       [ 87,  13],\n",
       "       [ 87,  75],\n",
       "       [ 87,  10],\n",
       "       [ 87,  92],\n",
       "       [ 88,  13],\n",
       "       [ 88,  86],\n",
       "       [ 88,  15],\n",
       "       [ 88,  69],\n",
       "       [ 93,  14],\n",
       "       [ 93,  90],\n",
       "       [ 97,  32],\n",
       "       [ 97,  86],\n",
       "       [ 98,  15],\n",
       "       [ 98,  88],\n",
       "       [ 99,  39],\n",
       "       [ 99,  97],\n",
       "       [101,  24],\n",
       "       [101,  68],\n",
       "       [103,  17],\n",
       "       [103,  85],\n",
       "       [103,  23],\n",
       "       [103,  69],\n",
       "       [113,   8],\n",
       "       [113,  91],\n",
       "       [120,  16],\n",
       "       [120,  79],\n",
       "       [126,  28],\n",
       "       [126,  74],\n",
       "       [137,  18],\n",
       "       [137,  83]], dtype=int64)"
      ]
     },
     "execution_count": 6,
     "metadata": {},
     "output_type": "execute_result"
    }
   ],
   "source": [
    "data = customer_data.iloc[:, 3:5].values\n",
    "data"
   ]
  },
  {
   "cell_type": "code",
   "execution_count": 7,
   "id": "3c2f6729",
   "metadata": {},
   "outputs": [],
   "source": [
    "import scipy.cluster.hierarchy as shc"
   ]
  },
  {
   "cell_type": "code",
   "execution_count": 8,
   "id": "f32106fb",
   "metadata": {},
   "outputs": [
    {
     "data": {
      "image/png": "[encoded data removed]",
      "text/plain": [
       "<Figure size 720x504 with 1 Axes>"
      ]
     },
     "metadata": {
      "needs_background": "light"
     },
     "output_type": "display_data"
    }
   ],
   "source": [
    "plt.figure(figsize = (10, 7))\n",
    "plt.title('Customer Dendrograms')\n",
    "dend = shc.dendrogram(shc.linkage(data, method = 'ward'))\n",
    "plt.show()"
   ]
  },
  {
   "cell_type": "code",
   "execution_count": 9,
   "id": "a7497132",
   "metadata": {},
   "outputs": [
    {
     "data": {
      "text/plain": [
       "array([4, 3, 4, 3, 4, 3, 4, 3, 4, 3, 4, 3, 4, 3, 4, 3, 4, 3, 4, 3, 4, 3,\n",
       "       4, 3, 4, 3, 4, 3, 4, 3, 4, 3, 4, 3, 4, 3, 4, 3, 4, 3, 4, 3, 4, 1,\n",
       "       4, 1, 1, 1, 1, 1, 1, 1, 1, 1, 1, 1, 1, 1, 1, 1, 1, 1, 1, 1, 1, 1,\n",
       "       1, 1, 1, 1, 1, 1, 1, 1, 1, 1, 1, 1, 1, 1, 1, 1, 1, 1, 1, 1, 1, 1,\n",
       "       1, 1, 1, 1, 1, 1, 1, 1, 1, 1, 1, 1, 1, 1, 1, 1, 1, 1, 1, 1, 1, 1,\n",
       "       1, 1, 1, 1, 1, 1, 1, 1, 1, 1, 1, 1, 1, 2, 1, 2, 1, 2, 0, 2, 0, 2,\n",
       "       1, 2, 0, 2, 0, 2, 0, 2, 0, 2, 1, 2, 0, 2, 1, 2, 0, 2, 0, 2, 0, 2,\n",
       "       0, 2, 0, 2, 0, 2, 1, 2, 0, 2, 0, 2, 0, 2, 0, 2, 0, 2, 0, 2, 0, 2,\n",
       "       0, 2, 0, 2, 0, 2, 0, 2, 0, 2, 0, 2, 0, 2, 0, 2, 0, 2, 0, 2, 0, 2,\n",
       "       0, 2], dtype=int64)"
      ]
     },
     "execution_count": 9,
     "metadata": {},
     "output_type": "execute_result"
    }
   ],
   "source": [
    "from sklearn.cluster import AgglomerativeClustering\n",
    "\n",
    "cluster = AgglomerativeClustering(n_clusters = 5, affinity = 'euclidean', linkage = 'ward')\n",
    "\n",
    "cluster.fit_predict(data)"
   ]
  },
  {
   "cell_type": "code",
   "execution_count": 10,
   "id": "93fa00c1",
   "metadata": {},
   "outputs": [
    {
     "data": {
      "image/png": "[encoded data removed]",
      "text/plain": [
       "<Figure size 360x360 with 1 Axes>"
      ]
     },
     "metadata": {
      "needs_background": "light"
     },
     "output_type": "display_data"
    }
   ],
   "source": [
    "plt.figure(figsize = (5,5))\n",
    "plt.scatter(data[:, 0], data[:, 1], c = cluster.labels_, cmap = 'rainbow')\n",
    "plt.show()"
   ]
  },
  {
   "cell_type": "code",
   "execution_count": 11,
   "id": "e7afdc0c",
   "metadata": {},
   "outputs": [],
   "source": [
    "#Project - 2"
   ]
  },
  {
   "cell_type": "code",
   "execution_count": 12,
   "id": "a4e60ff8",
   "metadata": {},
   "outputs": [
    {
     "data": {
      "text/html": [
       "<div>\n",
       "<style scoped>\n",
       "    .dataframe tbody tr th:only-of-type {\n",
       "        vertical-align: middle;\n",
       "    }\n",
       "\n",
       "    .dataframe tbody tr th {\n",
       "        vertical-align: top;\n",
       "    }\n",
       "\n",
       "    .dataframe thead th {\n",
       "        text-align: right;\n",
       "    }\n",
       "</style>\n",
       "<table border=\"1\" class=\"dataframe\">\n",
       "  <thead>\n",
       "    <tr style=\"text-align: right;\">\n",
       "      <th></th>\n",
       "      <th>preg</th>\n",
       "      <th>plas</th>\n",
       "      <th>pres</th>\n",
       "      <th>skin</th>\n",
       "      <th>test</th>\n",
       "      <th>mass</th>\n",
       "      <th>pedi</th>\n",
       "      <th>age</th>\n",
       "      <th>class</th>\n",
       "    </tr>\n",
       "  </thead>\n",
       "  <tbody>\n",
       "    <tr>\n",
       "      <th>0</th>\n",
       "      <td>6</td>\n",
       "      <td>148</td>\n",
       "      <td>72</td>\n",
       "      <td>35</td>\n",
       "      <td>0</td>\n",
       "      <td>33.6</td>\n",
       "      <td>0.627</td>\n",
       "      <td>50</td>\n",
       "      <td>1</td>\n",
       "    </tr>\n",
       "    <tr>\n",
       "      <th>1</th>\n",
       "      <td>1</td>\n",
       "      <td>85</td>\n",
       "      <td>66</td>\n",
       "      <td>29</td>\n",
       "      <td>0</td>\n",
       "      <td>26.6</td>\n",
       "      <td>0.351</td>\n",
       "      <td>31</td>\n",
       "      <td>0</td>\n",
       "    </tr>\n",
       "    <tr>\n",
       "      <th>2</th>\n",
       "      <td>8</td>\n",
       "      <td>183</td>\n",
       "      <td>64</td>\n",
       "      <td>0</td>\n",
       "      <td>0</td>\n",
       "      <td>23.3</td>\n",
       "      <td>0.672</td>\n",
       "      <td>32</td>\n",
       "      <td>1</td>\n",
       "    </tr>\n",
       "    <tr>\n",
       "      <th>3</th>\n",
       "      <td>1</td>\n",
       "      <td>89</td>\n",
       "      <td>66</td>\n",
       "      <td>23</td>\n",
       "      <td>94</td>\n",
       "      <td>28.1</td>\n",
       "      <td>0.167</td>\n",
       "      <td>21</td>\n",
       "      <td>0</td>\n",
       "    </tr>\n",
       "    <tr>\n",
       "      <th>4</th>\n",
       "      <td>0</td>\n",
       "      <td>137</td>\n",
       "      <td>40</td>\n",
       "      <td>35</td>\n",
       "      <td>168</td>\n",
       "      <td>43.1</td>\n",
       "      <td>2.288</td>\n",
       "      <td>33</td>\n",
       "      <td>1</td>\n",
       "    </tr>\n",
       "  </tbody>\n",
       "</table>\n",
       "</div>"
      ],
      "text/plain": [
       "   preg  plas  pres  skin  test  mass   pedi  age  class\n",
       "0     6   148    72    35     0  33.6  0.627   50      1\n",
       "1     1    85    66    29     0  26.6  0.351   31      0\n",
       "2     8   183    64     0     0  23.3  0.672   32      1\n",
       "3     1    89    66    23    94  28.1  0.167   21      0\n",
       "4     0   137    40    35   168  43.1  2.288   33      1"
      ]
     },
     "execution_count": 12,
     "metadata": {},
     "output_type": "execute_result"
    }
   ],
   "source": [
    "headernames = ['preg', 'plas', 'pres', 'skin', 'test', 'mass', 'pedi', 'age', 'class']\n",
    "data = pd.read_csv('mydata/pima-indians-diabetes.csv', names = headernames)\n",
    "data.head()"
   ]
  },
  {
   "cell_type": "code",
   "execution_count": 14,
   "id": "6f556992",
   "metadata": {},
   "outputs": [],
   "source": [
    "X = data.iloc[:, 0:8].values\n",
    "y = data.iloc[:, 8].values"
   ]
  },
  {
   "cell_type": "code",
   "execution_count": 15,
   "id": "5291003d",
   "metadata": {},
   "outputs": [
    {
     "data": {
      "text/plain": [
       "(768, 9)"
      ]
     },
     "execution_count": 15,
     "metadata": {},
     "output_type": "execute_result"
    }
   ],
   "source": [
    "data.shape"
   ]
  },
  {
   "cell_type": "code",
   "execution_count": 16,
   "id": "d02765ee",
   "metadata": {},
   "outputs": [
    {
     "data": {
      "image/png": "[encoded data removed]",
      "text/plain": [
       "<Figure size 720x504 with 1 Axes>"
      ]
     },
     "metadata": {
      "needs_background": "light"
     },
     "output_type": "display_data"
    }
   ],
   "source": [
    "plt.figure(figsize = (10, 7))\n",
    "plt.title('Patient Dendrograms')\n",
    "dend = shc.dendrogram(shc.linkage(data, method = 'ward'))\n",
    "plt.show()"
   ]
  },
  {
   "cell_type": "code",
   "execution_count": 17,
   "id": "be4db196",
   "metadata": {},
   "outputs": [
    {
     "data": {
      "text/plain": [
       "array([1, 1, 1, 3, 0, 1, 3, 1, 2, 1, 1, 1, 1, 2, 0, 1, 0, 1, 3, 3, 0, 1,\n",
       "       1, 1, 0, 3, 1, 3, 3, 1, 1, 0, 3, 1, 1, 0, 1, 1, 1, 0, 3, 1, 1, 0,\n",
       "       1, 1, 1, 1, 1, 1, 3, 3, 1, 0, 0, 1, 0, 3, 1, 3, 1, 1, 1, 0, 1, 1,\n",
       "       1, 1, 3, 3, 3, 0, 1, 0, 1, 1, 1, 1, 1, 1, 1, 1, 3, 1, 1, 3, 1, 3,\n",
       "       3, 1, 1, 0, 3, 1, 3, 0, 1, 3, 3, 0, 1, 1, 1, 3, 1, 0, 1, 0, 1, 3,\n",
       "       0, 2, 3, 1, 0, 1, 1, 1, 1, 3, 3, 1, 3, 1, 1, 3, 3, 3, 0, 1, 0, 1,\n",
       "       0, 1, 3, 0, 3, 3, 1, 0, 1, 1, 3, 1, 0, 1, 1, 3, 1, 1, 0, 1, 0, 2,\n",
       "       1, 1, 3, 3, 3, 0, 1, 3, 0, 1, 1, 0, 1, 1, 1, 3, 1, 0, 1, 3, 3, 0,\n",
       "       1, 0, 1, 1, 1, 3, 1, 1, 1, 1, 2, 3, 3, 0, 1, 3, 1, 1, 1, 0, 1, 3,\n",
       "       3, 0, 1, 1, 1, 3, 0, 1, 0, 1, 3, 1, 1, 1, 1, 0, 0, 0, 3, 3, 1, 1,\n",
       "       2, 1, 1, 0, 3, 3, 1, 1, 2, 3, 1, 0, 3, 1, 3, 1, 0, 1, 1, 1, 1, 3,\n",
       "       1, 0, 0, 1, 1, 2, 0, 1, 1, 1, 3, 1, 0, 1, 1, 1, 0, 0, 0, 1, 1, 1,\n",
       "       1, 3, 1, 1, 1, 1, 1, 3, 1, 3, 1, 3, 1, 3, 1, 0, 1, 3, 0, 1, 1, 0,\n",
       "       2, 0, 3, 3, 3, 3, 0, 0, 1, 0, 0, 0, 0, 1, 1, 0, 3, 1, 1, 3, 0, 0,\n",
       "       0, 0, 1, 3, 3, 3, 1, 3, 3, 1, 3, 1, 0, 1, 1, 1, 1, 0, 0, 1, 3, 3,\n",
       "       1, 3, 1, 1, 3, 0, 1, 1, 0, 1, 3, 3, 1, 1, 1, 3, 3, 1, 3, 1, 1, 1,\n",
       "       1, 3, 1, 1, 0, 1, 3, 0, 0, 1, 1, 1, 0, 3, 1, 1, 3, 0, 2, 3, 3, 3,\n",
       "       0, 0, 3, 3, 1, 3, 3, 1, 0, 3, 3, 3, 1, 1, 0, 3, 0, 1, 0, 3, 1, 0,\n",
       "       3, 1, 1, 1, 1, 1, 3, 1, 1, 0, 1, 1, 1, 2, 1, 0, 0, 3, 0, 2, 1, 1,\n",
       "       1, 3, 0, 3, 3, 1, 0, 0, 1, 0, 0, 0, 1, 3, 3, 1, 1, 1, 1, 1, 1, 1,\n",
       "       1, 3, 3, 1, 1, 1, 3, 3, 3, 3, 3, 1, 0, 1, 3, 1, 1, 3, 0, 3, 3, 1,\n",
       "       3, 1, 1, 3, 1, 3, 1, 0, 1, 1, 1, 1, 1, 1, 0, 3, 3, 1, 0, 1, 3, 3,\n",
       "       1, 0, 2, 0, 1, 1, 3, 1, 1, 3, 1, 1, 1, 3, 0, 0, 3, 1, 1, 3, 1, 1,\n",
       "       3, 0, 3, 1, 1, 0, 1, 1, 3, 3, 0, 1, 1, 0, 3, 3, 1, 1, 1, 1, 3, 3,\n",
       "       0, 1, 3, 1, 3, 1, 3, 1, 1, 1, 0, 0, 0, 0, 1, 3, 3, 0, 0, 0, 3, 1,\n",
       "       1, 3, 1, 3, 3, 0, 1, 1, 1, 1, 1, 0, 3, 3, 1, 3, 1, 3, 0, 0, 1, 1,\n",
       "       3, 3, 0, 3, 3, 1, 1, 1, 1, 1, 1, 1, 2, 1, 1, 1, 0, 1, 1, 3, 1, 3,\n",
       "       0, 0, 1, 1, 1, 3, 1, 1, 1, 0, 1, 1, 0, 3, 0, 0, 3, 0, 0, 1, 0, 1,\n",
       "       1, 1, 1, 1, 0, 1, 1, 3, 1, 3, 1, 1, 1, 1, 1, 3, 1, 0, 1, 1, 1, 3,\n",
       "       3, 3, 3, 1, 1, 1, 3, 2, 0, 0, 0, 1, 3, 3, 3, 1, 3, 2, 3, 0, 1, 3,\n",
       "       1, 1, 0, 0, 1, 3, 1, 1, 0, 3, 0, 1, 3, 0, 1, 1, 1, 1, 1, 0, 3, 1,\n",
       "       3, 1, 1, 0, 1, 1, 0, 0, 1, 1, 3, 0, 1, 2, 0, 1, 0, 1, 0, 1, 1, 1,\n",
       "       3, 1, 1, 0, 1, 3, 0, 1, 1, 0, 1, 0, 0, 1, 0, 1, 1, 0, 0, 3, 1, 1,\n",
       "       0, 1, 1, 1, 3, 1, 0, 3, 1, 1, 3, 1, 3, 1, 0, 3, 3, 1, 0, 3, 1, 3,\n",
       "       0, 1, 1, 3, 1, 2, 1, 3, 1, 1, 1, 1, 1, 1, 1, 0, 1, 3, 1, 1],\n",
       "      dtype=int64)"
      ]
     },
     "execution_count": 17,
     "metadata": {},
     "output_type": "execute_result"
    }
   ],
   "source": [
    "cluster = AgglomerativeClustering(n_clusters = 4, affinity = 'euclidean', linkage = 'ward')\n",
    "cluster.fit_predict(data)"
   ]
  },
  {
   "cell_type": "code",
   "execution_count": 20,
   "id": "08dd1b50",
   "metadata": {},
   "outputs": [
    {
     "data": {
      "image/png": "[encoded data removed]",
      "text/plain": [
       "<Figure size 720x504 with 1 Axes>"
      ]
     },
     "metadata": {
      "needs_background": "light"
     },
     "output_type": "display_data"
    }
   ],
   "source": [
    "patient_data = data.iloc[:, 3:5].values\n",
    "plt.figure(figsize = (10, 7))\n",
    "plt.scatter(patient_data[:, 0], patient_data[:, 1], c = cluster.labels_, cmap = 'rainbow')\n",
    "plt.show()"
   ]
  },
  {
   "cell_type": "code",
   "execution_count": 21,
   "id": "93d0a8bc",
   "metadata": {},
   "outputs": [],
   "source": [
    "import neurolab as nl"
   ]
  },
  {
   "cell_type": "code",
   "execution_count": 22,
   "id": "cc12745e",
   "metadata": {},
   "outputs": [],
   "source": [
    "myinput = [[0, 0], [0, 1], [1, 0], [1, 1]]\n",
    "target = [[0], [0], [0], [1]]"
   ]
  },
  {
   "cell_type": "code",
   "execution_count": 24,
   "id": "e10567b6",
   "metadata": {},
   "outputs": [],
   "source": [
    "net = nl.net.newp([[0, 1], [0, 1]], 1)"
   ]
  },
  {
   "cell_type": "code",
   "execution_count": 25,
   "id": "b4693169",
   "metadata": {},
   "outputs": [
    {
     "name": "stdout",
     "output_type": "stream",
     "text": [
      "The goal of learning is reached\n"
     ]
    }
   ],
   "source": [
    "error_progress = net.train(myinput, target, epochs = 100, show = 10, lr = 0.1)"
   ]
  },
  {
   "cell_type": "code",
   "execution_count": 26,
   "id": "e2592127",
   "metadata": {},
   "outputs": [
    {
     "data": {
      "image/png": "[encoded data removed]",
      "text/plain": [
       "<Figure size 432x288 with 1 Axes>"
      ]
     },
     "metadata": {
      "needs_background": "light"
     },
     "output_type": "display_data"
    }
   ],
   "source": [
    "plt.figure()\n",
    "plt.plot(error_progress)\n",
    "plt.xlabel('Number of Epochs')\n",
    "plt.ylabel('Training Error')\n",
    "plt.grid()\n",
    "plt.show()"
   ]
  },
  {
   "cell_type": "code",
   "execution_count": 27,
   "id": "81ebce82",
   "metadata": {},
   "outputs": [],
   "source": [
    "#Tek Katmanlı Sinir Ağları"
   ]
  },
  {
   "cell_type": "code",
   "execution_count": 29,
   "id": "2db136c6",
   "metadata": {},
   "outputs": [
    {
     "data": {
      "text/plain": [
       "array([[2. , 4. , 0. , 0. ],\n",
       "       [1.5, 3.9, 0. , 0. ],\n",
       "       [2.2, 4.1, 0. , 0. ],\n",
       "       [1.9, 4.7, 0. , 0. ],\n",
       "       [5.4, 2.2, 0. , 1. ],\n",
       "       [4.3, 7.1, 0. , 1. ],\n",
       "       [5.8, 4.9, 0. , 1. ],\n",
       "       [6.5, 3.2, 0. , 1. ],\n",
       "       [3. , 2. , 1. , 0. ],\n",
       "       [2.5, 0.5, 1. , 0. ],\n",
       "       [3.5, 2.1, 1. , 0. ],\n",
       "       [2.9, 0.3, 1. , 0. ],\n",
       "       [6.5, 8.3, 1. , 1. ],\n",
       "       [3.2, 6.2, 1. , 1. ],\n",
       "       [4.9, 7.8, 1. , 1. ],\n",
       "       [2.1, 4.8, 1. , 1. ]])"
      ]
     },
     "execution_count": 29,
     "metadata": {},
     "output_type": "execute_result"
    }
   ],
   "source": [
    "input_data = np.loadtxt('mydata/neural_simple.txt', delimiter = ',')\n",
    "input_data"
   ]
  },
  {
   "cell_type": "code",
   "execution_count": 30,
   "id": "feeb57ee",
   "metadata": {},
   "outputs": [],
   "source": [
    "data = input_data[:, 0:2]\n",
    "labels = input_data[:, 2:]"
   ]
  },
  {
   "cell_type": "code",
   "execution_count": 32,
   "id": "8342f2b4",
   "metadata": {},
   "outputs": [
    {
     "data": {
      "image/png": "[encoded data removed]",
      "text/plain": [
       "<Figure size 432x288 with 1 Axes>"
      ]
     },
     "metadata": {
      "needs_background": "light"
     },
     "output_type": "display_data"
    }
   ],
   "source": [
    "plt.figure()\n",
    "plt.scatter(data[:, 0], data[:, 1])\n",
    "plt.xlabel('Dimension 1')\n",
    "plt.ylabel('Dimension 2')\n",
    "plt.title('Input Data')\n",
    "plt.show()"
   ]
  },
  {
   "cell_type": "code",
   "execution_count": 33,
   "id": "53db373d",
   "metadata": {},
   "outputs": [],
   "source": [
    "dim1_min, dim1_max = data[:, 0].min(), data[:, 0].max()\n",
    "dim2_min, dim2_max = data[:, 1].min(), data[:, 1].max()"
   ]
  },
  {
   "cell_type": "code",
   "execution_count": 35,
   "id": "c80f2005",
   "metadata": {},
   "outputs": [
    {
     "data": {
      "text/plain": [
       "2"
      ]
     },
     "execution_count": 35,
     "metadata": {},
     "output_type": "execute_result"
    }
   ],
   "source": [
    "nn_output_layer = labels.shape[1]\n",
    "nn_output_layer"
   ]
  },
  {
   "cell_type": "code",
   "execution_count": 38,
   "id": "d5a05ea8",
   "metadata": {},
   "outputs": [],
   "source": [
    "dim1 = [dim1_min, dim1_max]\n",
    "dim2 = [dim2_min, dim2_max]\n",
    "neural_net = nl.net.newp([dim1, dim2], nn_output_layer)"
   ]
  },
  {
   "cell_type": "code",
   "execution_count": 39,
   "id": "3578b208",
   "metadata": {},
   "outputs": [
    {
     "name": "stdout",
     "output_type": "stream",
     "text": [
      "Epoch: 20; Error: 4.0;\n",
      "Epoch: 40; Error: 4.0;\n",
      "Epoch: 60; Error: 4.0;\n",
      "Epoch: 80; Error: 4.0;\n",
      "Epoch: 100; Error: 4.0;\n",
      "Epoch: 120; Error: 4.0;\n",
      "Epoch: 140; Error: 4.0;\n",
      "Epoch: 160; Error: 4.0;\n",
      "Epoch: 180; Error: 4.0;\n",
      "Epoch: 200; Error: 4.0;\n",
      "The maximum number of train epochs is reached\n"
     ]
    }
   ],
   "source": [
    "error = neural_net.train(data, labels, epochs = 200, show = 20, lr = 0.01)"
   ]
  },
  {
   "cell_type": "code",
   "execution_count": 40,
   "id": "5f3c84fe",
   "metadata": {},
   "outputs": [
    {
     "data": {
      "image/png": "[encoded data removed]",
      "text/plain": [
       "<Figure size 432x288 with 1 Axes>"
      ]
     },
     "metadata": {
      "needs_background": "light"
     },
     "output_type": "display_data"
    }
   ],
   "source": [
    "plt.figure()\n",
    "plt.plot(error)\n",
    "plt.xlabel('Number of Epochs')\n",
    "plt.ylabel('Training Error')\n",
    "plt.title('Training Error Progress')\n",
    "plt.grid()\n",
    "plt.show()"
   ]
  },
  {
   "cell_type": "code",
   "execution_count": 43,
   "id": "81e3d08f",
   "metadata": {},
   "outputs": [
    {
     "name": "stdout",
     "output_type": "stream",
     "text": [
      "\n",
      "Test Results :\n",
      "\n",
      "[1.5, 3.2] --> [1. 0.]\n",
      "[3.6, 1.7] --> [1. 0.]\n",
      "[3.6, 5.7] --> [1. 1.]\n",
      "[1.6, 3.9] --> [1. 0.]\n"
     ]
    }
   ],
   "source": [
    "print('\\nTest Results :\\n')\n",
    "\n",
    "data_test = [[1.5, 3.2], [3.6, 1.7], [3.6, 5.7], [1.6, 3.9]]\n",
    "for item in data_test:\n",
    "    print(item, '-->', neural_net.sim([item])[0])"
   ]
  },
  {
   "cell_type": "code",
   "execution_count": null,
   "id": "6ec2ccde",
   "metadata": {},
   "outputs": [],
   "source": [
    "#Çok katmanlı sinir ağı"
   ]
  }
 ],
 "metadata": {
  "kernelspec": {
   "display_name": "Python 3",
   "language": "python",
   "name": "python3"
  },
  "language_info": {
   "codemirror_mode": {
    "name": "ipython",
    "version": 3
   },
   "file_extension": ".py",
   "mimetype": "text/x-python",
   "name": "python",
   "nbconvert_exporter": "python",
   "pygments_lexer": "ipython3",
   "version": "3.8.8"
  }
 },
 "nbformat": 4,
 "nbformat_minor": 5
}
